{
 "cells": [
  {
   "cell_type": "code",
   "execution_count": null,
   "metadata": {},
   "outputs": [],
   "source": [
    "import numpy as np\n",
    "from dynamice.utils.parsers import get_backbone_pdb\n",
    "from idpconfgen.libs.libcalc import calc_torsion_angles\n",
    "from dynamice.utils.get_sidechain import GetTorsion"
   ]
  },
  {
   "cell_type": "code",
   "execution_count": null,
   "metadata": {},
   "outputs": [],
   "source": [
    "import os\n",
    "import time"
   ]
  },
  {
   "cell_type": "code",
   "execution_count": null,
   "metadata": {},
   "outputs": [],
   "source": [
    "import seaborn as sns\n",
    "import matplotlib.pyplot as plt\n",
    "from scipy import stats"
   ]
  },
  {
   "cell_type": "code",
   "execution_count": null,
   "metadata": {},
   "outputs": [],
   "source": [
    "# set matplotlib font to be editable by Ai\n",
    "import matplotlib\n",
    "matplotlib.rcParams['pdf.fonttype'] = 42\n",
    "matplotlib.rcParams['ps.fonttype'] = 42"
   ]
  },
  {
   "cell_type": "code",
   "execution_count": null,
   "metadata": {},
   "outputs": [],
   "source": [
    "#from Bio.PDB import PDBParser as parser\n",
    "import pandas as pd"
   ]
  },
  {
   "cell_type": "code",
   "execution_count": null,
   "metadata": {},
   "outputs": [],
   "source": [
    "cm = 1/2.54"
   ]
  },
  {
   "cell_type": "code",
   "execution_count": null,
   "metadata": {},
   "outputs": [],
   "source": [
    "asyn_seq = 'MDVFMKGLSKAKEGVVAAAEKTKQGVAEAAGKTKEGVLYVGSKTKEGVVHGVATVAEKTKEQVTNVGGAVVTGVTAVAQKTVEGAGSIAAATGFVKKDQLGKNEEGAPQEGILEDMPVDPDNEAYEMPSEEGYQDYEPEA' \n",
    "drk_seq = 'MEAIAKHDFSATADDELSFRKTQILKILNMEDDSNWYRAELDGKEGLIPSNYIEMKNHD'"
   ]
  },
  {
   "cell_type": "code",
   "execution_count": null,
   "metadata": {},
   "outputs": [],
   "source": []
  },
  {
   "cell_type": "code",
   "execution_count": null,
   "metadata": {},
   "outputs": [],
   "source": [
    "### Production Images ###\n",
    "# test pdbs histograms compare"
   ]
  },
  {
   "cell_type": "code",
   "execution_count": null,
   "metadata": {},
   "outputs": [],
   "source": [
    "from dynamice.utils.utility import sidechain_res\n",
    "def torsion_align(tor2, seq):\n",
    "    # align torsions for correlation plot, returns the shared idx according tor2 (for data padded with nans)\n",
    "    tor_name = {'chi1': 3, 'chi2': 4, 'chi3': 5, 'chi4': 6}\n",
    "    tor2 = tor_name[tor2]\n",
    "    res_num = np.array([sidechain_res[res] for res in seq])\n",
    "    tor2_res = np.argwhere(res_num+2 >= tor2).flatten()\n",
    "    return tor2_res\n",
    "    "
   ]
  },
  {
   "cell_type": "code",
   "execution_count": null,
   "metadata": {},
   "outputs": [],
   "source": [
    "align_idx = torsion_align('chi2', asyn_seq)"
   ]
  },
  {
   "cell_type": "code",
   "execution_count": null,
   "metadata": {},
   "outputs": [],
   "source": [
    "val_pdb_path = ['local/training_1/reinforce/prejc_pdbs/gen_%i.pdb'%(i+1)\n",
    "                for i in np.random.randint(250, size=100)]\n",
    "\n",
    "bbs = []\n",
    "for f in val_pdb_path:\n",
    "    bb = next(get_backbone_pdb(f, 1))[0]\n",
    "    bbtor = calc_torsion_angles(bb)\n",
    "    bbs.append(bbtor)\n",
    "bbs = np.array(bbs)\n",
    "test_phis = np.degrees(bbs[:, 2::3])\n",
    "test_psis = np.degrees(bbs[:, 0::3])\n",
    "test_phis = test_phis[:, :-1].flatten()\n",
    "test_psis = test_psis[:, 1:].flatten()\n",
    "\n",
    "values = np.vstack([test_phis, test_psis])\n",
    "bb_kernel = stats.gaussian_kde(values)(values)"
   ]
  },
  {
   "cell_type": "code",
   "execution_count": null,
   "metadata": {},
   "outputs": [],
   "source": [
    "# X-EISD optimized structures"
   ]
  },
  {
   "cell_type": "code",
   "execution_count": null,
   "metadata": {},
   "outputs": [],
   "source": [
    "f, ax = plt.subplots(1, 1, figsize=(8.7*cm, 7*cm))\n",
    "sns.scatterplot(test_phis, test_psis, hue=bb_kernel, s=5, ax=ax, palette='summer',\n",
    "                legend=False, linewidth = 0)\n",
    "ax.set_xlabel(r'$\\phi$')\n",
    "ax.set_ylabel(r'$\\psi$')\n",
    "ax.set_xlim(-180, 180)\n",
    "ax.set_ylim(-180, 180)\n",
    "ax.set_xticks([-180, -90, 0, 90, 180])\n",
    "ax.set_xticklabels([-180, -90, 0, 90, 180])\n",
    "ax.set_yticks([-180, -90, 0, 90, 180])\n",
    "ax.set_yticklabels([-180, -90, 0, 90, 180])\n",
    "norm = plt.Normalize(bb_kernel.min()*1e4, bb_kernel.max()*1e4)\n",
    "sm = plt.cm.ScalarMappable(cmap=\"summer\", norm=norm)\n",
    "sm.set_array([])\n",
    "f.colorbar(sm, ax=ax, label='Density (1e-04)')\n",
    "params = {'axes.labelsize': 8, 'xtick.labelsize': 8,\n",
    "          'ytick.labelsize': 8}\n",
    "plt.rcParams.update(params)\n",
    "plt.tight_layout()\n",
    "plt.show()"
   ]
  },
  {
   "cell_type": "code",
   "execution_count": null,
   "metadata": {},
   "outputs": [],
   "source": [
    "plt.clf()"
   ]
  },
  {
   "cell_type": "code",
   "execution_count": null,
   "metadata": {},
   "outputs": [],
   "source": []
  },
  {
   "cell_type": "code",
   "execution_count": null,
   "metadata": {},
   "outputs": [],
   "source": [
    "# plot dssp\n",
    "from dynamice.utils.dssp import count_ssp, ssp_per_residue\n",
    "import mdtraj as md\n",
    "\n",
    "def end_to_end(path):\n",
    "    backbones = next(get_backbone_pdb(path, 1))[0]\n",
    "    N_coord = backbones[1, :]\n",
    "    C_coord = backbones[-2, :]\n",
    "    return np.linalg.norm(N_coord - C_coord)\n",
    "\n",
    "def compute_aspher(traj):\n",
    "    l1, l2, l3 = md.principal_moments(traj)[0]\n",
    "    return 1 - 3*(l1*l2+l1*l3+l2*l3)/(l1+l2+l3)**2\n",
    "\n",
    "# secondary structure propensity\n",
    "def calc_struct_features(seq_len, pdblist, props):\n",
    "    ssp_pop = {'turn':[], 'bridge':[], 'helix':[], 'pi-helix':[], '310-helix':[],\n",
    "               'strand':[], 'bend':[]}\n",
    "    rglist = []\n",
    "    reelist = []\n",
    "    asplist = []\n",
    "    res_ssp = {}\n",
    "    count = 0\n",
    "    for filename in pdblist:\n",
    "        pdb = md.load(filename)\n",
    "        if 'dssp' in props:\n",
    "            dssp = md.compute_dssp(pdb, False)\n",
    "            ss = ''.join(dssp[0])\n",
    "            # for structures with helical regions\n",
    "            ifhelix = count_ssp(ss, seq_len, ssp_pop, helix=False)\n",
    "            count += ifhelix\n",
    "            #if ifhelix: hi.append(n+250)\n",
    "        if 'rg' in props:\n",
    "            rglist.append(md.compute_rg(pdb)[0]*10.)\n",
    "        if 'ree' in props:\n",
    "            reelist.append(end_to_end(filename))\n",
    "        if 'aspher' in props:\n",
    "            asplist.append(compute_aspher(pdb))\n",
    "    if 'dssp' in props:\n",
    "        res_ssp = ssp_per_residue(ssp_pop, seq_len, count)\n",
    "    return res_ssp, rglist, reelist, asplist"
   ]
  },
  {
   "cell_type": "code",
   "execution_count": null,
   "metadata": {},
   "outputs": [],
   "source": [
    "lseq = 140"
   ]
  },
  {
   "cell_type": "code",
   "execution_count": null,
   "metadata": {},
   "outputs": [],
   "source": [
    "dssplist_pool = {'T': [], 'E': [], 'H': [], 'Hp': [], 'H3': []}\n",
    "rg_pool = []\n",
    "for n in range(50):\n",
    "    idxs = np.random.randint(4940, size=100)\n",
    "    pdblist = ['torsions/asyn_mcsce/total/%i.pdb'%(n+1) for n in idxs]\n",
    "    rg = calc_struct_features(lseq, pdblist, props=['rg'])[1]\n",
    "    rg_pool.append(rg)\n",
    "\n"
   ]
  },
  {
   "cell_type": "code",
   "execution_count": null,
   "metadata": {},
   "outputs": [],
   "source": [
    "idx = pd.read_csv('/home/oufan/Desktop/X-EISD/local/mcsce/L+E+/max_jc_pre_asyn/indices.csv', header=None)\n",
    "dssplist_eisd = {'T': [], 'E': [], 'H': [], 'Hp': [], 'H3': []}\n",
    "rg_eisd = []\n",
    "for n in range(50):\n",
    "    pdblist = ['torsions/asyn_mcsce/total/%i.pdb'%(i+1) for i in idx.iloc[np.random.randint(100)]]\n",
    "    res_ssp, rg, ree, asp = calc_struct_features(lseq, pdblist, props=['rg'])    \n",
    "    rg_eisd.append(rg)\n",
    "\n",
    "    '''\n",
    "    dssplist_eisd['E'].append(np.sum(res_ssp[['strand', 'bridge']], axis=1))\n",
    "    dssplist_eisd['T'].append(np.sum(res_ssp[['bend', 'turn']], axis=1))\n",
    "    dssplist_eisd['H'].append(res_ssp['helix'])\n",
    "    dssplist_eisd['Hp'].append(res_ssp['pi-helix'])\n",
    "    dssplist_eisd['H3'].append(res_ssp['310-helix'])\n",
    "    '''\n",
    "    \n",
    "print(np.mean(np.mean(np.power(rg_eisd, 2), -1)**0.5), np.mean(np.std(rg_eisd, -1)))"
   ]
  },
  {
   "cell_type": "code",
   "execution_count": null,
   "metadata": {},
   "outputs": [],
   "source": [
    "dssplist_rl = {'T': [], 'E': [], 'H': [], 'Hp': [], 'H3': []}\n",
    "rg_rl = []\n",
    "ree_rl = []\n",
    "#asp_rl = []\n",
    "for n in range(50):\n",
    "    pdblist = ['local/training_1/reinforce/prejc_pdbs/gen_%i.pdb'%(n+1) \n",
    "               for n in np.random.randint(250, size=100)] \n",
    "    res_ssp, rg, ree, asp = calc_struct_features(lseq, pdblist, props=['dssp'])\n",
    "    #rg_rl.append(rg)\n",
    "    #ree_rl.append(ree)\n",
    "    #asp_rl.append(asp)\n",
    "    \n",
    "    dssplist_rl['E'].append(np.sum(res_ssp[['strand', 'bridge']], axis=1))\n",
    "    dssplist_rl['T'].append(np.sum(res_ssp[['bend', 'turn']], axis=1))\n",
    "    dssplist_rl['H'].append(res_ssp['helix'])\n",
    "    dssplist_rl['Hp'].append(res_ssp['pi-helix'])\n",
    "    dssplist_rl['H3'].append(res_ssp['310-helix'])"
   ]
  },
  {
   "cell_type": "code",
   "execution_count": null,
   "metadata": {
    "scrolled": true
   },
   "outputs": [],
   "source": [
    "x = np.arange(lseq)+1\n",
    "labelmap = {'E': r'$\\beta$-sheet', 'T': 'Turn', 'H': r'$\\alpha$-helix', 'Hp': r'$\\pi$-helix', 'H3': r'$3_{10}$-helix'}\n",
    "colormap = {'H': 'C2', 'T': 'C1', 'E': 'C0', 'Hp': 'C3', 'H3': 'C4'}\n",
    "#cmap = {'H': 'darkseagreen', 'T': 'burlywood', 'E': 'cornflowerblue'}\n",
    "cm = 1/2.54\n",
    "f, ax = plt.subplots(1, 1, figsize=(8.7*cm, 7*cm))\n",
    "for key in dssplist_rl:\n",
    "    m = np.mean(dssplist_rl[key], axis=0)\n",
    "    ax.errorbar(x, m, yerr=np.std(dssplist_rl[key], axis=0),\n",
    "               label=labelmap[key], c=colormap[key])\n",
    "ax.set_ylim(top=0.8)\n",
    "ax.set_xlabel('Residue Number')\n",
    "ax.set_ylabel('Secondary Structure Propensity')\n",
    "ax.legend(loc='upper center', ncol=3, frameon=False, fontsize=7)\n",
    "\n",
    "params = {'axes.labelsize': 8, 'xtick.labelsize': 8,\n",
    "          'ytick.labelsize': 8, 'lines.linewidth': 0.5}\n",
    "plt.rcParams.update(params)\n",
    "plt.tight_layout()\n",
    "plt.show()"
   ]
  },
  {
   "cell_type": "code",
   "execution_count": null,
   "metadata": {},
   "outputs": [],
   "source": [
    "#plot rg distribution\n",
    "f, ax = plt.subplots(1, 1, figsize=(8.7*cm, 7*cm))\n",
    "ax.hist(np.reshape(rg_pool, -1), bins=np.arange(15, 85, 2), density=True, edgecolor='navy', fill=False,\n",
    "         label='Original pool')\n",
    "ax.hist(np.reshape(rg_eisd[:10], -1), bins=np.arange(15, 85, 2)+0.2, density=True, edgecolor='darkorange', fill=False,\n",
    "         label='Reweighting')\n",
    "#facecolor='none', edgecolor='black')\n",
    "ax.hist(np.reshape(rg_rl[:10], -1), bins=np.arange(15, 85, 2)+0.4, density=True, edgecolor='green', alpha=0.3,\n",
    "         label='RL model')\n",
    "\n",
    "ax.set_xlabel(r'$R_g  (\\AA)$')\n",
    "ax.set_ylabel('Propensity')\n",
    "ax.legend(frameon=False, fontsize=7)\n",
    "\n",
    "params = {'axes.labelsize': 8, 'xtick.labelsize': 8,\n",
    "          'ytick.labelsize': 8, 'lines.linewidth': 0.5}\n",
    "plt.rcParams.update(params)\n",
    "plt.tight_layout()\n",
    "plt.show()"
   ]
  },
  {
   "cell_type": "code",
   "execution_count": null,
   "metadata": {},
   "outputs": [],
   "source": []
  },
  {
   "cell_type": "code",
   "execution_count": null,
   "metadata": {},
   "outputs": [],
   "source": []
  },
  {
   "cell_type": "code",
   "execution_count": null,
   "metadata": {},
   "outputs": [],
   "source": [
    "# plot SAXS exp bc curve\n",
    "data_path = '/home/oufan/Desktop/X-EISD/data/asyn/'\n",
    "saxs_exp = pd.read_csv(data_path + 'experimental_data/asyn_saxs_exp.dat')\n",
    "saxs_pool = pd.read_csv(data_path + 'back_calc_data/MCSCE/asyn_SAXS.txt', header=None, index_col=0)\n",
    "saxs_rl = pd.read_csv(data_path + 'back_calc_data/ML/rl_LE_saxs.txt', header=None, index_col=0)"
   ]
  },
  {
   "cell_type": "code",
   "execution_count": null,
   "metadata": {},
   "outputs": [],
   "source": [
    "df1 = pd.read_csv('/home/oufan/Desktop/X-EISD/local/mcsce/L+E+/max_jc_pre_asyn/indices.csv', header=None)\n",
    "saxs_eisd = []\n",
    "for n in range(50):\n",
    "    d = saxs_pool.iloc[df1.iloc[np.random.randint(100)].values].mean(axis=0)\n",
    "    saxs_eisd.append(d)"
   ]
  },
  {
   "cell_type": "code",
   "execution_count": null,
   "metadata": {},
   "outputs": [],
   "source": [
    "rl = []\n",
    "for n in range(50):\n",
    "    d = saxs_rl.iloc[np.random.randint(250, size=100)].mean(axis=0)\n",
    "    rl.append(d)"
   ]
  },
  {
   "cell_type": "code",
   "execution_count": null,
   "metadata": {},
   "outputs": [],
   "source": [
    "#plot SAXS \n",
    "f, ax = plt.subplots(1, 1, figsize=(8.7*cm, 7.5*cm))\n",
    "\n",
    "x = saxs_exp['index'].values[:1000]\n",
    "\n",
    "ax.errorbar(x, saxs_exp['value'].values[:1000], yerr=saxs_exp['error'].values[:1000], \n",
    "            label='Experimental', color='C0')\n",
    "ax.errorbar(x, np.mean(saxs_eisd, axis=0)[:1000], yerr=np.std(saxs_eisd, axis=0)[:1000], \n",
    "            label='Reweighting', linestyle='--', color='C1')\n",
    "ax.errorbar(x, np.mean(rl, axis=0)[:1000], yerr=np.std(rl, axis=0)[:1000], label='RL model',\n",
    "           linestyle='-.', color='C2')\n",
    "\n",
    "#ax.set_xscale('log')\n",
    "#ax.set_yscale('log')\n",
    "ax.set_xlabel(r'$Q({\\AA}^{1})$')\n",
    "ax.set_ylabel('I(Q)')\n",
    "ax.legend(frameon=False, fontsize=7)\n",
    "\n",
    "params = {'axes.labelsize': 8, 'xtick.labelsize': 8,\n",
    "          'ytick.labelsize': 8, 'lines.linewidth': 0.5}\n",
    "plt.rcParams.update(params)\n",
    "plt.tight_layout()\n",
    "plt.show()"
   ]
  },
  {
   "cell_type": "code",
   "execution_count": null,
   "metadata": {},
   "outputs": [],
   "source": []
  },
  {
   "cell_type": "code",
   "execution_count": null,
   "metadata": {},
   "outputs": [],
   "source": []
  },
  {
   "cell_type": "code",
   "execution_count": null,
   "metadata": {},
   "outputs": [],
   "source": []
  }
 ],
 "metadata": {
  "kernelspec": {
   "display_name": "idp",
   "language": "python",
   "name": "idp"
  },
  "language_info": {
   "codemirror_mode": {
    "name": "ipython",
    "version": 3
   },
   "file_extension": ".py",
   "mimetype": "text/x-python",
   "name": "python",
   "nbconvert_exporter": "python",
   "pygments_lexer": "ipython3",
   "version": "3.7.10"
  }
 },
 "nbformat": 4,
 "nbformat_minor": 4
}
